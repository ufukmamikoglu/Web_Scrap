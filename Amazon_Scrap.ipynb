{
 "cells": [
  {
   "cell_type": "code",
   "execution_count": 4,
   "id": "f527f50e",
   "metadata": {},
   "outputs": [
    {
     "name": "stdout",
     "output_type": "stream",
     "text": [
      "Defaulting to user installation because normal site-packages is not writeable\n",
      "Requirement already satisfied: autoscraper in c:\\users\\monster\\appdata\\roaming\\python\\python39\\site-packages (1.1.14)\n",
      "Requirement already satisfied: lxml in c:\\programdata\\anaconda3\\lib\\site-packages (from autoscraper) (4.9.1)\n",
      "Requirement already satisfied: bs4 in c:\\users\\monster\\appdata\\roaming\\python\\python39\\site-packages (from autoscraper) (0.0.1)\n",
      "Requirement already satisfied: requests in c:\\programdata\\anaconda3\\lib\\site-packages (from autoscraper) (2.28.1)\n",
      "Requirement already satisfied: beautifulsoup4 in c:\\programdata\\anaconda3\\lib\\site-packages (from bs4->autoscraper) (4.11.1)\n",
      "Requirement already satisfied: charset-normalizer<3,>=2 in c:\\programdata\\anaconda3\\lib\\site-packages (from requests->autoscraper) (2.0.4)\n",
      "Requirement already satisfied: idna<4,>=2.5 in c:\\programdata\\anaconda3\\lib\\site-packages (from requests->autoscraper) (3.3)\n",
      "Requirement already satisfied: certifi>=2017.4.17 in c:\\programdata\\anaconda3\\lib\\site-packages (from requests->autoscraper) (2022.9.14)\n",
      "Requirement already satisfied: urllib3<1.27,>=1.21.1 in c:\\programdata\\anaconda3\\lib\\site-packages (from requests->autoscraper) (1.26.11)\n",
      "Requirement already satisfied: soupsieve>1.2 in c:\\programdata\\anaconda3\\lib\\site-packages (from beautifulsoup4->bs4->autoscraper) (2.3.1)\n"
     ]
    }
   ],
   "source": [
    "!pip install autoscraper\n"
   ]
  },
  {
   "cell_type": "code",
   "execution_count": 5,
   "id": "0c77fb94",
   "metadata": {},
   "outputs": [],
   "source": [
    "from autoscraper import AutoScraper"
   ]
  },
  {
   "cell_type": "code",
   "execution_count": 6,
   "id": "62c88323",
   "metadata": {},
   "outputs": [],
   "source": [
    "amazon_url=\"https://www.trendyol.com/en/men-clothing-x-g2-c82\"\n",
    "\n",
    "wanted_list=[\"15,99 € \",\"Trendyol Collection Sweatshirt - Beige - Oversize\"]"
   ]
  },
  {
   "cell_type": "code",
   "execution_count": 7,
   "id": "aaa81439",
   "metadata": {},
   "outputs": [
    {
     "name": "stdout",
     "output_type": "stream",
     "text": [
      "['21,99 €15,99 €', '17,99 €7,99 €', '23,99 €11,99 €', '5,99 €3,99 €', '20,99 €12,99 €', '13,99 €7,99 €', '14,99 €6,99 €', '12,99 €', '21,99 €10,99 €', '17,99 €15,99 €', '26,99 €7,99 €', '15,99 €12,99 €', '23,99 €13,99 €', '26,99 €', '21,99 €', '10,99 €', '3,99 €2,99 €', '9,99 €', '15,99 €', '26,99 €18,99 €', '19,99 €', '17,99 €', '23,99 €', '5,99 €', '20,99 €', '13,99 €', '14,99 €', '3,99 €', '7,99 €', '11,99 €', '6,99 €', '2,99 €', '18,99 €']\n"
     ]
    }
   ],
   "source": [
    "scraper=AutoScraper()\n",
    "result=scraper.build(amazon_url,wanted_list)\n",
    "print(result)"
   ]
  },
  {
   "cell_type": "code",
   "execution_count": 8,
   "id": "2214acd3",
   "metadata": {},
   "outputs": [
    {
     "data": {
      "text/plain": [
       "{'rule_7i4r': ['21,99 €15,99 €',\n",
       "  '17,99 €7,99 €',\n",
       "  '23,99 €11,99 €',\n",
       "  '5,99 €3,99 €',\n",
       "  '20,99 €12,99 €',\n",
       "  '13,99 €7,99 €',\n",
       "  '5,99 €3,99 €',\n",
       "  '14,99 €6,99 €',\n",
       "  '23,99 €11,99 €',\n",
       "  '12,99 €',\n",
       "  '21,99 €10,99 €',\n",
       "  '17,99 €15,99 €',\n",
       "  '26,99 €7,99 €',\n",
       "  '15,99 €12,99 €',\n",
       "  '23,99 €13,99 €',\n",
       "  '26,99 €',\n",
       "  '21,99 €',\n",
       "  '10,99 €',\n",
       "  '3,99 €2,99 €',\n",
       "  '9,99 €',\n",
       "  '10,99 €',\n",
       "  '15,99 €',\n",
       "  '26,99 €18,99 €',\n",
       "  '19,99 €'],\n",
       " 'rule_ovpg': ['21,99 €',\n",
       "  '17,99 €',\n",
       "  '23,99 €',\n",
       "  '5,99 €',\n",
       "  '20,99 €',\n",
       "  '13,99 €',\n",
       "  '5,99 €',\n",
       "  '14,99 €',\n",
       "  '23,99 €',\n",
       "  '21,99 €',\n",
       "  '17,99 €',\n",
       "  '26,99 €',\n",
       "  '15,99 €',\n",
       "  '23,99 €',\n",
       "  '3,99 €',\n",
       "  '26,99 €'],\n",
       " 'rule_ip5n': ['15,99 €',\n",
       "  '7,99 €',\n",
       "  '11,99 €',\n",
       "  '3,99 €',\n",
       "  '12,99 €',\n",
       "  '7,99 €',\n",
       "  '3,99 €',\n",
       "  '6,99 €',\n",
       "  '11,99 €',\n",
       "  '12,99 €',\n",
       "  '10,99 €',\n",
       "  '15,99 €',\n",
       "  '7,99 €',\n",
       "  '12,99 €',\n",
       "  '13,99 €',\n",
       "  '26,99 €',\n",
       "  '21,99 €',\n",
       "  '10,99 €',\n",
       "  '2,99 €',\n",
       "  '9,99 €',\n",
       "  '10,99 €',\n",
       "  '15,99 €',\n",
       "  '18,99 €',\n",
       "  '19,99 €'],\n",
       " 'rule_bxmt': ['15,99 €',\n",
       "  '7,99 €',\n",
       "  '11,99 €',\n",
       "  '3,99 €',\n",
       "  '12,99 €',\n",
       "  '7,99 €',\n",
       "  '3,99 €',\n",
       "  '6,99 €',\n",
       "  '11,99 €',\n",
       "  '12,99 €',\n",
       "  '10,99 €',\n",
       "  '15,99 €',\n",
       "  '7,99 €',\n",
       "  '12,99 €',\n",
       "  '13,99 €',\n",
       "  '26,99 €',\n",
       "  '21,99 €',\n",
       "  '10,99 €',\n",
       "  '2,99 €',\n",
       "  '9,99 €',\n",
       "  '10,99 €',\n",
       "  '15,99 €',\n",
       "  '18,99 €',\n",
       "  '19,99 €']}"
      ]
     },
     "execution_count": 8,
     "metadata": {},
     "output_type": "execute_result"
    }
   ],
   "source": [
    "scraper.get_result_similar(amazon_url,grouped=True)"
   ]
  },
  {
   "cell_type": "code",
   "execution_count": null,
   "id": "d2fd47db",
   "metadata": {},
   "outputs": [],
   "source": []
  },
  {
   "cell_type": "code",
   "execution_count": null,
   "id": "88e62fec",
   "metadata": {},
   "outputs": [],
   "source": []
  }
 ],
 "metadata": {
  "kernelspec": {
   "display_name": "Python 3 (ipykernel)",
   "language": "python",
   "name": "python3"
  },
  "language_info": {
   "codemirror_mode": {
    "name": "ipython",
    "version": 3
   },
   "file_extension": ".py",
   "mimetype": "text/x-python",
   "name": "python",
   "nbconvert_exporter": "python",
   "pygments_lexer": "ipython3",
   "version": "3.9.13"
  }
 },
 "nbformat": 4,
 "nbformat_minor": 5
}
