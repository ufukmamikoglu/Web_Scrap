{
 "cells": [
  {
   "cell_type": "code",
   "execution_count": 93,
   "id": "190881e1",
   "metadata": {},
   "outputs": [],
   "source": [
    "from bs4 import BeautifulSoup\n",
    "import requests\n",
    "from csv import writer"
   ]
  },
  {
   "cell_type": "code",
   "execution_count": 94,
   "id": "1480c8d2",
   "metadata": {},
   "outputs": [],
   "source": [
    "url=\"https://www.trendyol.com/en/men-clothing-x-g2-c82\""
   ]
  },
  {
   "cell_type": "code",
   "execution_count": 95,
   "id": "3557f559",
   "metadata": {},
   "outputs": [],
   "source": [
    "page=requests.get(url)"
   ]
  },
  {
   "cell_type": "code",
   "execution_count": 96,
   "id": "a8b1f299",
   "metadata": {},
   "outputs": [
    {
     "name": "stdout",
     "output_type": "stream",
     "text": [
      "<Response [200]>\n"
     ]
    }
   ],
   "source": [
    "print(page)"
   ]
  },
  {
   "cell_type": "code",
   "execution_count": 97,
   "id": "f2238810",
   "metadata": {},
   "outputs": [],
   "source": [
    "soup= BeautifulSoup(page.content, 'html.parser')"
   ]
  },
  {
   "cell_type": "code",
   "execution_count": 98,
   "id": "797459cf",
   "metadata": {},
   "outputs": [],
   "source": [
    "lists = soup.find_all('div', class_=\"product\")\n",
    "with open('amazon_iphone.csv','w',encoding='utf8',newline='') as f:\n",
    "    thewriter=writer(f)\n",
    "    header=[\"title\",\"price\",\"name\",\"score\"]\n",
    "    thewriter.writerow(header)\n",
    "    for list in lists:\n",
    "        discount=list.find('div', class_=\"stamp lower-left discount\")\n",
    "        price=list.find('div', class_=\"price\").text.replace('\\n,','')\n",
    "        name=list.find('h3', class_=\"name\").text.replace('\\n,','')\n",
    "        score=list.find('div', class_=\"rating-score\").text.replace('\\n,','')\n",
    "    \n",
    "        toplu=[title,price,name,score]\n",
    "        thewriter.writerow(toplu)"
   ]
  },
  {
   "cell_type": "code",
   "execution_count": 99,
   "id": "81a02877",
   "metadata": {},
   "outputs": [
    {
     "name": "stdout",
     "output_type": "stream",
     "text": [
      "[None, '19,99 €', 'Trendyol CollectionPajama Set - Navy blue - Landscape print', '(27)']\n"
     ]
    }
   ],
   "source": [
    "print(toplu)"
   ]
  },
  {
   "cell_type": "code",
   "execution_count": null,
   "id": "de428bab",
   "metadata": {},
   "outputs": [],
   "source": []
  }
 ],
 "metadata": {
  "kernelspec": {
   "display_name": "Python 3 (ipykernel)",
   "language": "python",
   "name": "python3"
  },
  "language_info": {
   "codemirror_mode": {
    "name": "ipython",
    "version": 3
   },
   "file_extension": ".py",
   "mimetype": "text/x-python",
   "name": "python",
   "nbconvert_exporter": "python",
   "pygments_lexer": "ipython3",
   "version": "3.9.13"
  }
 },
 "nbformat": 4,
 "nbformat_minor": 5
}
